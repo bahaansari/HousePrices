{
 "cells": [
  {
   "cell_type": "code",
   "execution_count": 1,
   "metadata": {},
   "outputs": [],
   "source": [
    "import pandas as pd\n",
    "import seaborn as sns\n",
    "import matplotlib.pyplot as plt\n",
    "import numpy as np\n",
    "from sklearn.metrics import mean_squared_error\n",
    "\n",
    "from sklearn.model_selection import cross_val_score\n",
    "from sklearn.neighbors import KNeighborsRegressor\n",
    "from sklearn.metrics import mean_squared_error\n",
    "from sklearn.metrics import make_scorer"
   ]
  },
  {
   "cell_type": "code",
   "execution_count": 2,
   "metadata": {},
   "outputs": [
    {
     "data": {
      "text/plain": [
       "(1560, 74)"
      ]
     },
     "execution_count": 2,
     "metadata": {},
     "output_type": "execute_result"
    }
   ],
   "source": [
    "train  = pd.read_csv('Train1.csv')\n",
    "test = pd.read_csv('Test1.csv')\n",
    "train.shape"
   ]
  },
  {
   "cell_type": "code",
   "execution_count": 3,
   "metadata": {},
   "outputs": [],
   "source": [
    "columns=['MS Zoning','Street','Lot Shape','Land Contour','Utilities','Lot Config','Land Slope','Neighborhood',\n",
    "         'Condition 2','Bldg Type','Condition 1','House Style','Sale Type',\n",
    "        'Sale Condition','Exter Cond',\n",
    "         'Exter Qual','Foundation','Bsmt Qual','Bsmt Cond','Bsmt Exposure','BsmtFin Type 1','BsmtFin Type 2',\n",
    "        'Roof Style','Roof Matl','Exterior 1st','Exterior 2nd','Mas Vnr Type','Heating','Heating QC',\n",
    "         'Central Air',\n",
    "         'Electrical','Kitchen Qual','Functional',\n",
    "         'Fireplace Qu','Garage Type','Garage Finish','Garage Qual','Garage Cond','Paved Drive']"
   ]
  },
  {
   "cell_type": "code",
   "execution_count": 4,
   "metadata": {},
   "outputs": [],
   "source": [
    "def category_onehot_multcols(multcolumns):\n",
    "    df_final=final_df\n",
    "    i=0\n",
    "    for fields in multcolumns:\n",
    "        \n",
    "        print(fields)\n",
    "        df1=pd.get_dummies(final_df[fields],drop_first=True)\n",
    "        \n",
    "        final_df.drop([fields],axis=1,inplace=True)\n",
    "        if i==0:\n",
    "            df_final=df1.copy()\n",
    "        else:\n",
    "            \n",
    "            df_final=pd.concat([df_final,df1],axis=1)\n",
    "        i=i+1\n",
    "       \n",
    "        \n",
    "    df_final=pd.concat([final_df,df_final],axis=1)\n",
    "        \n",
    "    return df_final"
   ]
  },
  {
   "cell_type": "code",
   "execution_count": 5,
   "metadata": {},
   "outputs": [
    {
     "name": "stderr",
     "output_type": "stream",
     "text": [
      "C:\\Users\\Owner\\Anaconda3\\lib\\site-packages\\ipykernel_launcher.py:1: FutureWarning: Sorting because non-concatenation axis is not aligned. A future version\n",
      "of pandas will change to not sort by default.\n",
      "\n",
      "To accept the future behavior, pass 'sort=False'.\n",
      "\n",
      "To retain the current behavior and silence the warning, pass 'sort=True'.\n",
      "\n",
      "  \"\"\"Entry point for launching an IPython kernel.\n"
     ]
    },
    {
     "data": {
      "text/plain": [
       "(2770, 74)"
      ]
     },
     "execution_count": 5,
     "metadata": {},
     "output_type": "execute_result"
    }
   ],
   "source": [
    "final_df=pd.concat([train,test],axis=0)\n",
    "final_df.shape"
   ]
  },
  {
   "cell_type": "code",
   "execution_count": 6,
   "metadata": {},
   "outputs": [
    {
     "name": "stdout",
     "output_type": "stream",
     "text": [
      "MS Zoning\n",
      "Street\n",
      "Lot Shape\n",
      "Land Contour\n",
      "Utilities\n",
      "Lot Config\n",
      "Land Slope\n",
      "Neighborhood\n",
      "Condition 2\n",
      "Bldg Type\n",
      "Condition 1\n",
      "House Style\n",
      "Sale Type\n",
      "Sale Condition\n",
      "Exter Cond\n",
      "Exter Qual\n",
      "Foundation\n",
      "Bsmt Qual\n",
      "Bsmt Cond\n",
      "Bsmt Exposure\n",
      "BsmtFin Type 1\n",
      "BsmtFin Type 2\n",
      "Roof Style\n",
      "Roof Matl\n",
      "Exterior 1st\n",
      "Exterior 2nd\n",
      "Mas Vnr Type\n",
      "Heating\n",
      "Heating QC\n",
      "Central Air\n",
      "Electrical\n",
      "Kitchen Qual\n",
      "Functional\n",
      "Fireplace Qu\n",
      "Garage Type\n",
      "Garage Finish\n",
      "Garage Qual\n",
      "Garage Cond\n",
      "Paved Drive\n"
     ]
    }
   ],
   "source": [
    "final_df=category_onehot_multcols(columns)"
   ]
  },
  {
   "cell_type": "code",
   "execution_count": 7,
   "metadata": {},
   "outputs": [],
   "source": [
    "final_df =final_df.loc[:,~final_df.columns.duplicated()]"
   ]
  },
  {
   "cell_type": "code",
   "execution_count": 8,
   "metadata": {},
   "outputs": [
    {
     "data": {
      "text/plain": [
       "(2770, 184)"
      ]
     },
     "execution_count": 8,
     "metadata": {},
     "output_type": "execute_result"
    }
   ],
   "source": [
    "final_df.shape"
   ]
  },
  {
   "cell_type": "code",
   "execution_count": 9,
   "metadata": {},
   "outputs": [],
   "source": [
    "df_Train=final_df.iloc[:1560,:]\n",
    "df_Test=final_df.iloc[1560:,:]\n"
   ]
  },
  {
   "cell_type": "code",
   "execution_count": 10,
   "metadata": {},
   "outputs": [
    {
     "name": "stderr",
     "output_type": "stream",
     "text": [
      "C:\\Users\\Owner\\Anaconda3\\lib\\site-packages\\pandas\\core\\frame.py:4102: SettingWithCopyWarning: \n",
      "A value is trying to be set on a copy of a slice from a DataFrame\n",
      "\n",
      "See the caveats in the documentation: http://pandas.pydata.org/pandas-docs/stable/user_guide/indexing.html#returning-a-view-versus-a-copy\n",
      "  errors=errors,\n"
     ]
    }
   ],
   "source": [
    "df_Test.drop(['SalePrice'],axis=1,inplace=True)"
   ]
  },
  {
   "cell_type": "code",
   "execution_count": 11,
   "metadata": {},
   "outputs": [
    {
     "name": "stderr",
     "output_type": "stream",
     "text": [
      "C:\\Users\\Owner\\Anaconda3\\lib\\site-packages\\ipykernel_launcher.py:1: SettingWithCopyWarning: \n",
      "A value is trying to be set on a copy of a slice from a DataFrame.\n",
      "Try using .loc[row_indexer,col_indexer] = value instead\n",
      "\n",
      "See the caveats in the documentation: http://pandas.pydata.org/pandas-docs/stable/user_guide/indexing.html#returning-a-view-versus-a-copy\n",
      "  \"\"\"Entry point for launching an IPython kernel.\n",
      "C:\\Users\\Owner\\Anaconda3\\lib\\site-packages\\ipykernel_launcher.py:2: SettingWithCopyWarning: \n",
      "A value is trying to be set on a copy of a slice from a DataFrame.\n",
      "Try using .loc[row_indexer,col_indexer] = value instead\n",
      "\n",
      "See the caveats in the documentation: http://pandas.pydata.org/pandas-docs/stable/user_guide/indexing.html#returning-a-view-versus-a-copy\n",
      "  \n"
     ]
    }
   ],
   "source": [
    "df_Test['Garage Area']=df_Test['Garage Area'].fillna(df_Test['Garage Area'].mode()[0])\n",
    "df_Test['Garage Cars']=df_Test['Garage Cars'].fillna(df_Test['Garage Cars'].mode()[0])"
   ]
  },
  {
   "cell_type": "code",
   "execution_count": 12,
   "metadata": {},
   "outputs": [],
   "source": [
    "X = df_Train.drop(['SalePrice'],axis=1)\n",
    "Y = df_Train['SalePrice']"
   ]
  },
  {
   "cell_type": "code",
   "execution_count": null,
   "metadata": {},
   "outputs": [],
   "source": []
  },
  {
   "cell_type": "code",
   "execution_count": null,
   "metadata": {},
   "outputs": [],
   "source": []
  },
  {
   "cell_type": "markdown",
   "metadata": {},
   "source": [
    "LASSO MODEL"
   ]
  },
  {
   "cell_type": "code",
   "execution_count": 13,
   "metadata": {},
   "outputs": [
    {
     "name": "stdout",
     "output_type": "stream",
     "text": [
      "LASSO Lambda: 157.71937223329388\n",
      "LASSO Lambda: 157.71937223329388\n"
     ]
    }
   ],
   "source": [
    "from sklearn.linear_model import LassoCV\n",
    "from sklearn import linear_model\n",
    "#selecting the best alpha for lasso model\n",
    "lasso = LassoCV(cv=10)\n",
    "lasso.fit(X, Y) \n",
    "\n",
    "\n",
    "print(\"LASSO Lambda: {0}\".format(lasso.alpha_))\n",
    "print(\"LASSO Lambda: {0}\".format(lasso.alpha_))"
   ]
  },
  {
   "cell_type": "code",
   "execution_count": 14,
   "metadata": {},
   "outputs": [],
   "source": [
    "pd.set_option('display.max_rows', 1010)\n"
   ]
  },
  {
   "cell_type": "code",
   "execution_count": 17,
   "metadata": {},
   "outputs": [],
   "source": [
    "#We want a very large lamba because we have so many predictors and we want to shrink them to zero. This would help with overfitting."
   ]
  },
  {
   "cell_type": "code",
   "execution_count": 18,
   "metadata": {},
   "outputs": [
    {
     "data": {
      "text/plain": [
       "Lasso(alpha=157.71937223329388, copy_X=True, fit_intercept=True, max_iter=1000,\n",
       "      normalize=False, positive=False, precompute=False, random_state=None,\n",
       "      selection='cyclic', tol=0.0001, warm_start=False)"
      ]
     },
     "execution_count": 18,
     "metadata": {},
     "output_type": "execute_result"
    }
   ],
   "source": [
    "ls = linear_model.Lasso(alpha=157.71937223329388)\n",
    "ls.fit(X, Y)\n"
   ]
  },
  {
   "cell_type": "code",
   "execution_count": 19,
   "metadata": {},
   "outputs": [
    {
     "name": "stdout",
     "output_type": "stream",
     "text": [
      "[  2544.17016059      0.              0.          -2163.78794212\n",
      "   2859.21741388    -89.3929364      -0.              0.\n",
      "     -0.             -0.           2567.1779803    3574.01340868\n",
      "      0.           5466.6456576    5862.46831774   1949.99995032\n",
      "  -1280.90292811   3564.85565679    622.09696351      0.\n",
      "     -0.              0.             -0.             -0.\n",
      "      0.           5529.59770994  26559.63917953      0.\n",
      "      0.            865.49618445      0.              0.\n",
      "     -0.             -0.             -0.              0.\n",
      "     -0.             -0.              0.             -0.\n",
      "      0.           3916.35644022     -0.             -0.\n",
      "  12642.13149895      0.              0.             -0.\n",
      "     -0.           3898.38798338  -4886.89817742     -0.\n",
      "   2116.24496873    483.12047087     -0.             -0.\n",
      "      0.              0.             -0.             -0.\n",
      "   7842.37886164  -1190.87268111  -9283.08908638     -0.\n",
      "      0.             -0.              0.              0.\n",
      "     -0.          -1354.56069058      0.          -5636.32607927\n",
      "  32360.43666007  46179.51536549  -2937.20105058  -5260.98918072\n",
      "      0.             -0.           8180.34315576  17712.5823742\n",
      "      0.              0.             -0.             -0.\n",
      "      0.              0.              0.             -0.\n",
      "     -0.             -0.             -0.             -0.\n",
      "  -2805.73688433     -0.              0.           5850.29528619\n",
      "      0.              0.           5421.04387302      0.\n",
      "  -3905.72200626      0.              0.             -0.\n",
      "     -0.              0.          14230.64238757      0.\n",
      "     -0.             -0.              0.              0.\n",
      "      0.           4745.41783362   8663.38179781     -0.\n",
      "     82.25505691     -0.             -0.            957.17254361\n",
      "   5877.52953559     -0.             -0.             -0.\n",
      "  -8977.85049603 -11645.98423884      0.           5794.80023899\n",
      "     -0.          -1879.18044062  -4174.37048758     -0.\n",
      "     -0.           5950.34235139      0.              0.\n",
      "      0.              0.              0.              0.\n",
      "     -0.             -0.              0.             -0.\n",
      "      0.           9835.33467412      0.          -4222.55718946\n",
      "     -0.              0.          -2850.79646537      0.\n",
      "     -0.           3378.56655705  -2941.31068926     -0.\n",
      "     -0.          11039.48455762      0.          -8176.87990086\n",
      "   -694.76375632      0.             -0.             -0.\n",
      "     -0.             -0.             -0.             -0.\n",
      "      0.              0.              0.             -0.\n",
      "     -0.              0.             -0.           8818.94281227\n",
      "      0.             -0.           5587.33241803     -0.\n",
      "     -0.          -5011.00835986  -3347.80639449]\n",
      "584074.2950406941\n"
     ]
    }
   ],
   "source": [
    "print(ls.coef_)\n",
    "print(ls.intercept_)"
   ]
  },
  {
   "cell_type": "code",
   "execution_count": 20,
   "metadata": {},
   "outputs": [
    {
     "data": {
      "text/plain": [
       "25213.342907593094"
      ]
     },
     "execution_count": 20,
     "metadata": {},
     "output_type": "execute_result"
    }
   ],
   "source": [
    "#Train RMSE\n",
    "lasso = ls.fit(X, Y)\n",
    "trainpredictions = lasso.predict(X)\n",
    "  \n",
    "# evaluating the model on training dataset\n",
    "rmse_train = np.sqrt(mean_squared_error(Y, trainpredictions))\n",
    "rmse_train"
   ]
  },
  {
   "cell_type": "code",
   "execution_count": 21,
   "metadata": {},
   "outputs": [],
   "source": [
    "#predictions for test set"
   ]
  },
  {
   "cell_type": "code",
   "execution_count": 22,
   "metadata": {},
   "outputs": [],
   "source": [
    "testpredictions = lasso.predict(df_Test)\n",
    "pd.DataFrame(testpredictions).to_csv(\"prediction.csv\")"
   ]
  },
  {
   "cell_type": "code",
   "execution_count": null,
   "metadata": {},
   "outputs": [],
   "source": []
  },
  {
   "cell_type": "code",
   "execution_count": 23,
   "metadata": {},
   "outputs": [],
   "source": [
    "num_df = train.drop(columns, axis = 1)\n",
    "df = num_df.columns.tolist()\n"
   ]
  },
  {
   "cell_type": "code",
   "execution_count": 24,
   "metadata": {},
   "outputs": [],
   "source": [
    "features = list(X)"
   ]
  },
  {
   "cell_type": "code",
   "execution_count": 25,
   "metadata": {},
   "outputs": [
    {
     "data": {
      "text/plain": [
       "60"
      ]
     },
     "execution_count": 25,
     "metadata": {},
     "output_type": "execute_result"
    }
   ],
   "source": [
    "coef_dict = {}\n",
    "for coef, feat in zip(ls.coef_,features):\n",
    "        if coef != 0:\n",
    "            coef_dict[feat] = coef\n",
    "\n",
    "len(coef_dict)"
   ]
  },
  {
   "cell_type": "code",
   "execution_count": 26,
   "metadata": {},
   "outputs": [],
   "source": [
    "#Numerical predictors of LASSO model"
   ]
  },
  {
   "cell_type": "code",
   "execution_count": 27,
   "metadata": {},
   "outputs": [
    {
     "data": {
      "text/plain": [
       "15"
      ]
     },
     "execution_count": 27,
     "metadata": {},
     "output_type": "execute_result"
    }
   ],
   "source": [
    "to_delete = set(coef_dict.keys()).difference(df)\n",
    "for d in to_delete:\n",
    "    del coef_dict[d]\n",
    "len(coef_dict)"
   ]
  },
  {
   "cell_type": "code",
   "execution_count": 28,
   "metadata": {},
   "outputs": [],
   "source": [
    "df = pd.DataFrame(data=coef_dict, index=[0])\n",
    "\n",
    "df = (df.T)\n"
   ]
  },
  {
   "cell_type": "code",
   "execution_count": 29,
   "metadata": {},
   "outputs": [],
   "source": [
    "df.to_excel('dict1.xlsx')"
   ]
  },
  {
   "cell_type": "code",
   "execution_count": null,
   "metadata": {},
   "outputs": [],
   "source": []
  },
  {
   "cell_type": "code",
   "execution_count": 30,
   "metadata": {},
   "outputs": [],
   "source": [
    "#Categorical predictors of LASSO model"
   ]
  },
  {
   "cell_type": "code",
   "execution_count": 31,
   "metadata": {},
   "outputs": [],
   "source": [
    "def entries_to_remove(df, coef_dict):\n",
    "    for key in df:\n",
    "        if key in coef_dict:\n",
    "            del coef_dict[key]\n",
    "entries_to_remove(df, coef_dict)"
   ]
  },
  {
   "cell_type": "code",
   "execution_count": 32,
   "metadata": {},
   "outputs": [
    {
     "data": {
      "text/plain": [
       "{'1st Flr SF': 2544.1701605891385,\n",
       " 'Bedroom AbvGr': -2163.787942117504,\n",
       " 'Bsmt Full Bath': 2859.217413876446,\n",
       " 'Bsmt Half Bath': -89.3929363994196,\n",
       " 'Fireplaces': 2567.1779802981673,\n",
       " 'Full Bath': 3574.013408675701,\n",
       " 'Garage Cars': 5466.645657596756,\n",
       " 'Gr Liv Area': 5862.468317735289,\n",
       " 'Half Bath': 1949.999950324779,\n",
       " 'Kitchen AbvGr': -1280.9029281054247,\n",
       " 'Lot Area': 3564.8556567941514,\n",
       " 'Lot Frontage': 622.0969635075483,\n",
       " 'Overall Cond': 5529.597709941443,\n",
       " 'Overall Qual': 26559.639179526923,\n",
       " 'TotRms AbvGrd': 865.4961844538689}"
      ]
     },
     "execution_count": 32,
     "metadata": {},
     "output_type": "execute_result"
    }
   ],
   "source": [
    "coef_dict"
   ]
  },
  {
   "cell_type": "code",
   "execution_count": 33,
   "metadata": {},
   "outputs": [
    {
     "name": "stdout",
     "output_type": "stream",
     "text": [
      "                           0\n",
      "1st Flr SF       2544.170161\n",
      "Bedroom AbvGr   -2163.787942\n",
      "Bsmt Full Bath   2859.217414\n",
      "Bsmt Half Bath    -89.392936\n",
      "Fireplaces       2567.177980\n",
      "Full Bath        3574.013409\n",
      "Garage Cars      5466.645658\n",
      "Gr Liv Area      5862.468318\n",
      "Half Bath        1949.999950\n",
      "Kitchen AbvGr   -1280.902928\n",
      "Lot Area         3564.855657\n",
      "Lot Frontage      622.096964\n",
      "Overall Cond     5529.597710\n",
      "Overall Qual    26559.639180\n",
      "TotRms AbvGrd     865.496184\n"
     ]
    }
   ],
   "source": [
    "df = pd.DataFrame(data=coef_dict, index=[0])\n",
    "\n",
    "df = (df.T)\n",
    "\n",
    "print (df)\n",
    "\n",
    "df.to_excel('dict1.xlsx')"
   ]
  },
  {
   "cell_type": "code",
   "execution_count": null,
   "metadata": {},
   "outputs": [],
   "source": []
  },
  {
   "cell_type": "code",
   "execution_count": null,
   "metadata": {},
   "outputs": [],
   "source": []
  },
  {
   "cell_type": "code",
   "execution_count": 34,
   "metadata": {},
   "outputs": [],
   "source": [
    "#pd.DataFrame(predictions).to_csv(\"prediction.csv\")"
   ]
  },
  {
   "cell_type": "code",
   "execution_count": null,
   "metadata": {},
   "outputs": [],
   "source": []
  },
  {
   "cell_type": "markdown",
   "metadata": {},
   "source": [
    "Performing variable selection for the Linear model and kNN model"
   ]
  },
  {
   "cell_type": "code",
   "execution_count": 35,
   "metadata": {},
   "outputs": [
    {
     "data": {
      "text/plain": [
       "Lasso(alpha=10000, copy_X=True, fit_intercept=True, max_iter=1000,\n",
       "      normalize=False, positive=False, precompute=False, random_state=None,\n",
       "      selection='cyclic', tol=0.0001, warm_start=False)"
      ]
     },
     "execution_count": 35,
     "metadata": {},
     "output_type": "execute_result"
    }
   ],
   "source": [
    "ls = linear_model.Lasso(alpha=10000)\n",
    "ls.fit(X, Y)"
   ]
  },
  {
   "cell_type": "code",
   "execution_count": 36,
   "metadata": {},
   "outputs": [],
   "source": [
    "coef_dict = {}\n",
    "for coef, feat in zip(ls.coef_,features):\n",
    "    if coef != 0:\n",
    "        coef_dict[feat] = coef"
   ]
  },
  {
   "cell_type": "code",
   "execution_count": 37,
   "metadata": {},
   "outputs": [
    {
     "data": {
      "text/plain": [
       "{'1st Flr SF': 4574.4010983735425,\n",
       " 'Bsmt Full Bath': 3453.073863511208,\n",
       " 'Full Bath': 2364.4313431145856,\n",
       " 'Garage Cars': 7919.882626552812,\n",
       " 'Gr Liv Area': 9046.314623298495,\n",
       " 'Kitchen AbvGr': -2095.537580661631,\n",
       " 'Lot Frontage': 514.5108452138521,\n",
       " 'Overall Qual': 16756.580294533265}"
      ]
     },
     "execution_count": 37,
     "metadata": {},
     "output_type": "execute_result"
    }
   ],
   "source": [
    "coef_dict"
   ]
  },
  {
   "cell_type": "code",
   "execution_count": 38,
   "metadata": {},
   "outputs": [
    {
     "name": "stdout",
     "output_type": "stream",
     "text": [
      "dict_keys(['1st Flr SF', 'Bsmt Full Bath', 'Full Bath', 'Garage Cars', 'Gr Liv Area', 'Kitchen AbvGr', 'Lot Frontage', 'Overall Qual'])\n"
     ]
    }
   ],
   "source": [
    "lassopredictors = coef_dict.keys()\n",
    "print(np.array(lassopredictors))"
   ]
  },
  {
   "cell_type": "code",
   "execution_count": null,
   "metadata": {},
   "outputs": [],
   "source": []
  },
  {
   "cell_type": "code",
   "execution_count": null,
   "metadata": {},
   "outputs": [],
   "source": []
  },
  {
   "cell_type": "markdown",
   "metadata": {},
   "source": [
    "KNN MODEL"
   ]
  },
  {
   "cell_type": "code",
   "execution_count": 39,
   "metadata": {},
   "outputs": [
    {
     "data": {
      "text/html": [
       "<div>\n",
       "<style scoped>\n",
       "    .dataframe tbody tr th:only-of-type {\n",
       "        vertical-align: middle;\n",
       "    }\n",
       "\n",
       "    .dataframe tbody tr th {\n",
       "        vertical-align: top;\n",
       "    }\n",
       "\n",
       "    .dataframe thead th {\n",
       "        text-align: right;\n",
       "    }\n",
       "</style>\n",
       "<table border=\"1\" class=\"dataframe\">\n",
       "  <thead>\n",
       "    <tr style=\"text-align: right;\">\n",
       "      <th></th>\n",
       "      <th>1st Flr SF</th>\n",
       "      <th>2nd Flr SF</th>\n",
       "      <th>3Ssn Porch</th>\n",
       "      <th>Bedroom AbvGr</th>\n",
       "      <th>Bsmt Full Bath</th>\n",
       "      <th>Bsmt Half Bath</th>\n",
       "      <th>Bsmt Unf SF</th>\n",
       "      <th>BsmtFin SF 1</th>\n",
       "      <th>BsmtFin SF 2</th>\n",
       "      <th>Enclosed Porch</th>\n",
       "      <th>...</th>\n",
       "      <th>Min2</th>\n",
       "      <th>Sal</th>\n",
       "      <th>Typ</th>\n",
       "      <th>Attchd</th>\n",
       "      <th>Basment</th>\n",
       "      <th>BuiltIn</th>\n",
       "      <th>CarPort</th>\n",
       "      <th>Detchd</th>\n",
       "      <th>RFn</th>\n",
       "      <th>P</th>\n",
       "    </tr>\n",
       "  </thead>\n",
       "  <tbody>\n",
       "    <tr>\n",
       "      <td>0</td>\n",
       "      <td>-20.436905</td>\n",
       "      <td>-0.783225</td>\n",
       "      <td>-0.107648</td>\n",
       "      <td>-1.812640</td>\n",
       "      <td>-2.399807</td>\n",
       "      <td>-1.266381</td>\n",
       "      <td>-1.258090</td>\n",
       "      <td>-0.990231</td>\n",
       "      <td>-0.294734</td>\n",
       "      <td>-0.378415</td>\n",
       "      <td>...</td>\n",
       "      <td>0</td>\n",
       "      <td>0</td>\n",
       "      <td>1</td>\n",
       "      <td>1</td>\n",
       "      <td>0</td>\n",
       "      <td>0</td>\n",
       "      <td>0</td>\n",
       "      <td>0</td>\n",
       "      <td>1</td>\n",
       "      <td>0</td>\n",
       "    </tr>\n",
       "    <tr>\n",
       "      <td>1</td>\n",
       "      <td>-20.353595</td>\n",
       "      <td>-0.789748</td>\n",
       "      <td>-0.107648</td>\n",
       "      <td>-4.782984</td>\n",
       "      <td>1.177240</td>\n",
       "      <td>-1.266381</td>\n",
       "      <td>-1.257362</td>\n",
       "      <td>-0.988683</td>\n",
       "      <td>-0.294734</td>\n",
       "      <td>-0.378415</td>\n",
       "      <td>...</td>\n",
       "      <td>0</td>\n",
       "      <td>0</td>\n",
       "      <td>1</td>\n",
       "      <td>1</td>\n",
       "      <td>0</td>\n",
       "      <td>0</td>\n",
       "      <td>0</td>\n",
       "      <td>0</td>\n",
       "      <td>0</td>\n",
       "      <td>0</td>\n",
       "    </tr>\n",
       "    <tr>\n",
       "      <td>2</td>\n",
       "      <td>-22.968229</td>\n",
       "      <td>-0.786937</td>\n",
       "      <td>-0.107648</td>\n",
       "      <td>-3.297812</td>\n",
       "      <td>-2.399807</td>\n",
       "      <td>-1.266381</td>\n",
       "      <td>-1.257254</td>\n",
       "      <td>-0.991458</td>\n",
       "      <td>-0.294734</td>\n",
       "      <td>-0.340961</td>\n",
       "      <td>...</td>\n",
       "      <td>0</td>\n",
       "      <td>0</td>\n",
       "      <td>1</td>\n",
       "      <td>1</td>\n",
       "      <td>0</td>\n",
       "      <td>0</td>\n",
       "      <td>0</td>\n",
       "      <td>0</td>\n",
       "      <td>0</td>\n",
       "      <td>0</td>\n",
       "    </tr>\n",
       "    <tr>\n",
       "      <td>3</td>\n",
       "      <td>-18.363464</td>\n",
       "      <td>-0.789748</td>\n",
       "      <td>-0.107648</td>\n",
       "      <td>-3.297812</td>\n",
       "      <td>-2.399807</td>\n",
       "      <td>-1.266381</td>\n",
       "      <td>-1.251437</td>\n",
       "      <td>-0.992937</td>\n",
       "      <td>-0.294734</td>\n",
       "      <td>-0.378415</td>\n",
       "      <td>...</td>\n",
       "      <td>0</td>\n",
       "      <td>0</td>\n",
       "      <td>1</td>\n",
       "      <td>1</td>\n",
       "      <td>0</td>\n",
       "      <td>0</td>\n",
       "      <td>0</td>\n",
       "      <td>0</td>\n",
       "      <td>1</td>\n",
       "      <td>0</td>\n",
       "    </tr>\n",
       "    <tr>\n",
       "      <td>4</td>\n",
       "      <td>-21.865294</td>\n",
       "      <td>-0.789748</td>\n",
       "      <td>-0.107648</td>\n",
       "      <td>-3.297812</td>\n",
       "      <td>-2.399807</td>\n",
       "      <td>13.950255</td>\n",
       "      <td>-1.256905</td>\n",
       "      <td>-0.990039</td>\n",
       "      <td>-0.294734</td>\n",
       "      <td>-0.378415</td>\n",
       "      <td>...</td>\n",
       "      <td>0</td>\n",
       "      <td>0</td>\n",
       "      <td>1</td>\n",
       "      <td>1</td>\n",
       "      <td>0</td>\n",
       "      <td>0</td>\n",
       "      <td>0</td>\n",
       "      <td>0</td>\n",
       "      <td>1</td>\n",
       "      <td>0</td>\n",
       "    </tr>\n",
       "  </tbody>\n",
       "</table>\n",
       "<p>5 rows × 184 columns</p>\n",
       "</div>"
      ],
      "text/plain": [
       "   1st Flr SF  2nd Flr SF  3Ssn Porch  Bedroom AbvGr  Bsmt Full Bath  \\\n",
       "0  -20.436905   -0.783225   -0.107648      -1.812640       -2.399807   \n",
       "1  -20.353595   -0.789748   -0.107648      -4.782984        1.177240   \n",
       "2  -22.968229   -0.786937   -0.107648      -3.297812       -2.399807   \n",
       "3  -18.363464   -0.789748   -0.107648      -3.297812       -2.399807   \n",
       "4  -21.865294   -0.789748   -0.107648      -3.297812       -2.399807   \n",
       "\n",
       "   Bsmt Half Bath  Bsmt Unf SF  BsmtFin SF 1  BsmtFin SF 2  Enclosed Porch  \\\n",
       "0       -1.266381    -1.258090     -0.990231     -0.294734       -0.378415   \n",
       "1       -1.266381    -1.257362     -0.988683     -0.294734       -0.378415   \n",
       "2       -1.266381    -1.257254     -0.991458     -0.294734       -0.340961   \n",
       "3       -1.266381    -1.251437     -0.992937     -0.294734       -0.378415   \n",
       "4       13.950255    -1.256905     -0.990039     -0.294734       -0.378415   \n",
       "\n",
       "   ...  Min2  Sal  Typ  Attchd  Basment  BuiltIn  CarPort  Detchd  RFn  P  \n",
       "0  ...     0    0    1       1        0        0        0       0    1  0  \n",
       "1  ...     0    0    1       1        0        0        0       0    0  0  \n",
       "2  ...     0    0    1       1        0        0        0       0    0  0  \n",
       "3  ...     0    0    1       1        0        0        0       0    1  0  \n",
       "4  ...     0    0    1       1        0        0        0       0    1  0  \n",
       "\n",
       "[5 rows x 184 columns]"
      ]
     },
     "execution_count": 39,
     "metadata": {},
     "output_type": "execute_result"
    }
   ],
   "source": [
    "df_Train.head()\n",
    "\n"
   ]
  },
  {
   "cell_type": "code",
   "execution_count": 40,
   "metadata": {},
   "outputs": [],
   "source": [
    "def knn_test(predictors, response):\n",
    "    \n",
    "    neighbours=np.arange(1, 51)\n",
    "    best_score = -np.inf\n",
    "    \n",
    "    for k in neighbours: \n",
    "        knn = KNeighborsRegressor(n_neighbors = k, metric='mahalanobis', metric_params={'V': X.loc[:,predictors].cov()}) \n",
    "        scores = cross_val_score(knn, X.loc[:,predictors], Y, cv=10, scoring = 'neg_mean_squared_error')\n",
    "        # taking the average of scores across 10 folds\n",
    "        cv_score = np.mean(scores)\n",
    "        # use the cv score for model selection\n",
    "        if cv_score >= best_score:\n",
    "            best_score = cv_score\n",
    "            best_knn = knn\n",
    "    \n",
    "    knn = best_knn\n",
    "    # train the selected model with the whole train set\n",
    "    knn.fit(X.loc[:,predictors], Y)\n",
    "    # Predict the test data with the selected and re-estimated model\n",
    "    predictions = knn.predict(X.loc[:,predictors])\n",
    "    train_rmse = np.sqrt(mean_squared_error(Y, predictions))\n",
    "    cv_rmse= np.sqrt(-best_score)\n",
    "    print('Chosen K: {}'.format(knn.n_neighbors))\n",
    "    \n",
    "    return train_rmse, cv_rmse \n"
   ]
  },
  {
   "cell_type": "code",
   "execution_count": 41,
   "metadata": {},
   "outputs": [],
   "source": [
    "predictors = lassopredictors"
   ]
  },
  {
   "cell_type": "code",
   "execution_count": 796,
   "metadata": {},
   "outputs": [
    {
     "data": {
      "text/plain": [
       "dict_keys(['1st Flr SF', 'Bedroom AbvGr', 'Bsmt Full Bath', 'Fireplaces', 'Full Bath', 'Garage Cars', 'Gr Liv Area', 'Half Bath', 'Kitchen AbvGr', 'Lot Area', 'Lot Frontage', 'Overall Cond', 'Overall Qual', 'NridgHt', 'New', 'Partial', 'PConc', 'No', 'GLQ', 'Hip', 'VinylSd'])"
      ]
     },
     "execution_count": 796,
     "metadata": {},
     "output_type": "execute_result"
    }
   ],
   "source": [
    "lassopredictors"
   ]
  },
  {
   "cell_type": "code",
   "execution_count": 523,
   "metadata": {},
   "outputs": [
    {
     "name": "stdout",
     "output_type": "stream",
     "text": [
      "Chosen K: 6\n",
      "Train RMSE : 26164.33\n",
      "Cross validation RMSE : 31595.56\n"
     ]
    }
   ],
   "source": [
    "train_rmse, cv_rmse  =  knn_test(predictors, Y) \n",
    "print('Train RMSE : {}'.format(train_rmse.round(2)))\n",
    "print('Cross validation RMSE : {}'.format(cv_rmse.round(2)))"
   ]
  },
  {
   "cell_type": "code",
   "execution_count": 524,
   "metadata": {},
   "outputs": [],
   "source": [
    "knn = KNeighborsRegressor(n_neighbors = 6) \n",
    "knn.fit(X.loc[:,predictors], Y)\n",
    "\n",
    "predictions = knn.predict(df_Test.loc[:, predictors])\n",
    "#pd.DataFrame(predictions).to_csv(\"prediction.csv\")"
   ]
  },
  {
   "cell_type": "code",
   "execution_count": null,
   "metadata": {},
   "outputs": [],
   "source": []
  },
  {
   "cell_type": "markdown",
   "metadata": {},
   "source": [
    "Linear Model"
   ]
  },
  {
   "cell_type": "code",
   "execution_count": 801,
   "metadata": {},
   "outputs": [],
   "source": [
    "X = df_Train.drop(['SalePrice'],axis=1)\n",
    "Y = df_Train['SalePrice']"
   ]
  },
  {
   "cell_type": "code",
   "execution_count": 802,
   "metadata": {},
   "outputs": [],
   "source": [
    "p = X.loc[:, lassopredictors]\n"
   ]
  },
  {
   "cell_type": "code",
   "execution_count": 803,
   "metadata": {},
   "outputs": [],
   "source": [
    "c = df_Test.loc[:, lassopredictors]"
   ]
  },
  {
   "cell_type": "code",
   "execution_count": 804,
   "metadata": {},
   "outputs": [
    {
     "name": "stderr",
     "output_type": "stream",
     "text": [
      "C:\\Users\\Owner\\Anaconda3\\lib\\site-packages\\numpy\\core\\fromnumeric.py:2389: FutureWarning: Method .ptp is deprecated and will be removed in a future version. Use numpy.ptp instead.\n",
      "  return ptp(axis=axis, out=out, **kwargs)\n"
     ]
    }
   ],
   "source": [
    "import statsmodels.api as sm\n",
    "\n",
    "x_with_intercept = sm.add_constant(p, prepend=True)\n",
    "\n",
    "x_with_intercept.head()\n",
    "X = np.asmatrix(x_with_intercept)\n",
    "Y = np.asmatrix(Y)\n",
    "lin_betas = np.linalg.inv(X.T*X) * X.T * Y.T"
   ]
  },
  {
   "cell_type": "code",
   "execution_count": 805,
   "metadata": {},
   "outputs": [],
   "source": [
    "#Test Set PRedictions\n",
    "c_with_intercept = sm.add_constant(c, prepend=True)\n",
    "C= np.asmatrix(c_with_intercept)"
   ]
  },
  {
   "cell_type": "code",
   "execution_count": 806,
   "metadata": {},
   "outputs": [],
   "source": [
    "predictions = C * lin_betas\n",
    "pd.DataFrame(predictions).to_csv(\"prediction.csv\")"
   ]
  },
  {
   "cell_type": "code",
   "execution_count": 807,
   "metadata": {},
   "outputs": [],
   "source": [
    "#Train RMSE\n",
    "predictions = X * lin_betas"
   ]
  },
  {
   "cell_type": "code",
   "execution_count": 809,
   "metadata": {},
   "outputs": [
    {
     "name": "stdout",
     "output_type": "stream",
     "text": [
      "Train RMSE for Linear Model is 32320.305864443162\n"
     ]
    }
   ],
   "source": [
    "Train_rmse1 = np.sqrt(mean_squared_error(Y.T, predictions))\n",
    "print('Train RMSE for Linear Model is',Train_rmse1)"
   ]
  },
  {
   "cell_type": "code",
   "execution_count": null,
   "metadata": {},
   "outputs": [],
   "source": []
  },
  {
   "cell_type": "markdown",
   "metadata": {},
   "source": [
    "Feature Selection for gradient boosting\n",
    "#https://machinelearningmastery.com/feature-importance-and-feature-selection-with-xgboost-in-python/"
   ]
  },
  {
   "cell_type": "code",
   "execution_count": null,
   "metadata": {},
   "outputs": [],
   "source": []
  },
  {
   "cell_type": "code",
   "execution_count": null,
   "metadata": {},
   "outputs": [],
   "source": []
  },
  {
   "cell_type": "markdown",
   "metadata": {},
   "source": [
    "Extreme Gradient Boosting"
   ]
  },
  {
   "cell_type": "code",
   "execution_count": 792,
   "metadata": {},
   "outputs": [],
   "source": [
    "#lassopredictors = ['1st Flr SF', 'Bsmt Full Bath', 'Full Bath', 'Garage Cars', 'Gr Liv Area', 'Kitchen AbvGr', 'Overall Qual','Half Bath', 'Lot Frontage']\n",
    "#lassopredictors = ['1st Flr SF', 'Bsmt Full Bath', 'Full Bath', 'Garage Cars', 'Gr Liv Area', 'Kitchen AbvGr', 'Overall Qual'] BEST"
   ]
  },
  {
   "cell_type": "code",
   "execution_count": 793,
   "metadata": {},
   "outputs": [],
   "source": [
    "p = X.loc[:, lassopredictors]\n"
   ]
  },
  {
   "cell_type": "code",
   "execution_count": 594,
   "metadata": {},
   "outputs": [],
   "source": [
    "import xgboost\n",
    "classifier=xgboost.XGBRegressor()"
   ]
  },
  {
   "cell_type": "code",
   "execution_count": 595,
   "metadata": {},
   "outputs": [],
   "source": [
    "import xgboost\n",
    "regressor=xgboost.XGBRegressor()"
   ]
  },
  {
   "cell_type": "code",
   "execution_count": 596,
   "metadata": {},
   "outputs": [],
   "source": [
    "booster=['gbtree','gblinear']\n",
    "base_score=[0.25,0.5,0.75,1]"
   ]
  },
  {
   "cell_type": "code",
   "execution_count": 597,
   "metadata": {},
   "outputs": [],
   "source": [
    "## Hyper Parameter Optimization\n",
    "\n",
    "\n",
    "n_estimators = [100, 500, 900, 1100, 1500]\n",
    "max_depth = [2, 3, 5, 10, 15]\n",
    "booster=['gbtree','gblinear']\n",
    "learning_rate=[0.05,0.1,0.15,0.20]\n",
    "min_child_weight=[1,2,3,4]\n",
    "\n",
    "# Define the grid of hyperparameters to search\n",
    "hyperparameter_grid = {\n",
    "    'n_estimators': n_estimators,\n",
    "    'max_depth':max_depth,\n",
    "    'learning_rate':learning_rate,\n",
    "    'min_child_weight':min_child_weight,\n",
    "    'booster':booster,\n",
    "    'base_score':base_score\n",
    "    }"
   ]
  },
  {
   "cell_type": "code",
   "execution_count": 771,
   "metadata": {},
   "outputs": [],
   "source": [
    "from sklearn.model_selection import RandomizedSearchCV\n",
    "random_cv = RandomizedSearchCV(estimator=regressor,\n",
    "            param_distributions=hyperparameter_grid,\n",
    "            cv=5, n_iter=50,\n",
    "            scoring = 'neg_mean_squared_error',n_jobs = 4,\n",
    "            verbose = 5, \n",
    "            return_train_score = True,\n",
    "            random_state=42)"
   ]
  },
  {
   "cell_type": "code",
   "execution_count": 772,
   "metadata": {},
   "outputs": [
    {
     "name": "stdout",
     "output_type": "stream",
     "text": [
      "Fitting 5 folds for each of 50 candidates, totalling 250 fits\n"
     ]
    },
    {
     "name": "stderr",
     "output_type": "stream",
     "text": [
      "[Parallel(n_jobs=4)]: Using backend LokyBackend with 4 concurrent workers.\n",
      "[Parallel(n_jobs=4)]: Done  10 tasks      | elapsed:    7.4s\n",
      "[Parallel(n_jobs=4)]: Done  64 tasks      | elapsed:   29.3s\n",
      "[Parallel(n_jobs=4)]: Done 154 tasks      | elapsed:  1.1min\n",
      "[Parallel(n_jobs=4)]: Done 250 out of 250 | elapsed:  1.7min finished\n",
      "C:\\Users\\Owner\\Anaconda3\\lib\\site-packages\\xgboost\\core.py:587: FutureWarning: Series.base is deprecated and will be removed in a future version\n",
      "  if getattr(data, 'base', None) is not None and \\\n",
      "C:\\Users\\Owner\\Anaconda3\\lib\\site-packages\\xgboost\\core.py:588: FutureWarning: Series.base is deprecated and will be removed in a future version\n",
      "  data.base is not None and isinstance(data, np.ndarray) \\\n"
     ]
    },
    {
     "name": "stdout",
     "output_type": "stream",
     "text": [
      "[14:24:22] WARNING: src/objective/regression_obj.cu:152: reg:linear is now deprecated in favor of reg:squarederror.\n"
     ]
    },
    {
     "data": {
      "text/plain": [
       "RandomizedSearchCV(cv=5, error_score='raise-deprecating',\n",
       "                   estimator=XGBRegressor(base_score=0.25, booster='gbtree',\n",
       "                                          colsample_bylevel=1,\n",
       "                                          colsample_bynode=1,\n",
       "                                          colsample_bytree=1, gamma=0,\n",
       "                                          importance_type='gain',\n",
       "                                          learning_rate=0.05, max_delta_step=0,\n",
       "                                          max_depth=2, min_child_weight=4,\n",
       "                                          missing=None, n_estimators=900,\n",
       "                                          n_jobs=1, nthread=None,\n",
       "                                          objective='reg:linear',\n",
       "                                          random_...\n",
       "                   iid='warn', n_iter=50, n_jobs=4,\n",
       "                   param_distributions={'base_score': [0.25, 0.5, 0.75, 1],\n",
       "                                        'booster': ['gbtree', 'gblinear'],\n",
       "                                        'learning_rate': [0.05, 0.1, 0.15, 0.2],\n",
       "                                        'max_depth': [2, 3, 5, 10, 15],\n",
       "                                        'min_child_weight': [1, 2, 3, 4],\n",
       "                                        'n_estimators': [100, 500, 900, 1100,\n",
       "                                                         1500]},\n",
       "                   pre_dispatch='2*n_jobs', random_state=42, refit=True,\n",
       "                   return_train_score=True, scoring='neg_mean_squared_error',\n",
       "                   verbose=5)"
      ]
     },
     "execution_count": 772,
     "metadata": {},
     "output_type": "execute_result"
    }
   ],
   "source": [
    "random_cv.fit(p,Y)\n"
   ]
  },
  {
   "cell_type": "code",
   "execution_count": 773,
   "metadata": {},
   "outputs": [
    {
     "data": {
      "text/plain": [
       "XGBRegressor(base_score=0.5, booster='gbtree', colsample_bylevel=1,\n",
       "             colsample_bynode=1, colsample_bytree=1, gamma=0,\n",
       "             importance_type='gain', learning_rate=0.1, max_delta_step=0,\n",
       "             max_depth=2, min_child_weight=1, missing=None, n_estimators=100,\n",
       "             n_jobs=1, nthread=None, objective='reg:linear', random_state=0,\n",
       "             reg_alpha=0, reg_lambda=1, scale_pos_weight=1, seed=None,\n",
       "             silent=None, subsample=1, verbosity=1)"
      ]
     },
     "execution_count": 773,
     "metadata": {},
     "output_type": "execute_result"
    }
   ],
   "source": [
    "random_cv.best_estimator_"
   ]
  },
  {
   "cell_type": "code",
   "execution_count": 784,
   "metadata": {},
   "outputs": [
    {
     "data": {
      "text/plain": [
       "-809838700.7862037"
      ]
     },
     "execution_count": 784,
     "metadata": {},
     "output_type": "execute_result"
    }
   ],
   "source": [
    "random_cv.best_score_"
   ]
  },
  {
   "cell_type": "code",
   "execution_count": 776,
   "metadata": {},
   "outputs": [],
   "source": [
    "regressor=xgboost.XGBRegressor(base_score=0.5, booster='gbtree', colsample_bylevel=1,\n",
    "             colsample_bynode=1, colsample_bytree=1, gamma=0,\n",
    "             importance_type='gain', learning_rate=0.1, max_delta_step=0,\n",
    "             max_depth=2, min_child_weight=1, missing=None, n_estimators=100,\n",
    "             n_jobs=1, nthread=None, objective='reg:linear', random_state=0,\n",
    "             reg_alpha=0, reg_lambda=1, scale_pos_weight=1, seed=None,\n",
    "             silent=None, subsample=1, verbosity=1)"
   ]
  },
  {
   "cell_type": "code",
   "execution_count": 777,
   "metadata": {},
   "outputs": [
    {
     "name": "stdout",
     "output_type": "stream",
     "text": [
      "[14:25:12] WARNING: src/objective/regression_obj.cu:152: reg:linear is now deprecated in favor of reg:squarederror.\n"
     ]
    },
    {
     "data": {
      "text/plain": [
       "XGBRegressor(base_score=0.5, booster='gbtree', colsample_bylevel=1,\n",
       "             colsample_bynode=1, colsample_bytree=1, gamma=0,\n",
       "             importance_type='gain', learning_rate=0.1, max_delta_step=0,\n",
       "             max_depth=2, min_child_weight=1, missing=None, n_estimators=100,\n",
       "             n_jobs=1, nthread=None, objective='reg:linear', random_state=0,\n",
       "             reg_alpha=0, reg_lambda=1, scale_pos_weight=1, seed=None,\n",
       "             silent=None, subsample=1, verbosity=1)"
      ]
     },
     "execution_count": 777,
     "metadata": {},
     "output_type": "execute_result"
    }
   ],
   "source": [
    "regressor.fit(X.loc[:, lassopredictors],Y)\n"
   ]
  },
  {
   "cell_type": "code",
   "execution_count": 778,
   "metadata": {},
   "outputs": [
    {
     "name": "stdout",
     "output_type": "stream",
     "text": [
      "260787.61\n"
     ]
    }
   ],
   "source": [
    "y_pred=regressor.predict(df_Test.loc[:, lassopredictors])\n",
    "print(y_pred[43])\n"
   ]
  },
  {
   "cell_type": "code",
   "execution_count": 779,
   "metadata": {},
   "outputs": [],
   "source": [
    "pd.DataFrame(y_pred).to_csv(\"prediction.csv\")"
   ]
  },
  {
   "cell_type": "code",
   "execution_count": 336,
   "metadata": {},
   "outputs": [
    {
     "data": {
      "text/html": [
       "<div>\n",
       "<style scoped>\n",
       "    .dataframe tbody tr th:only-of-type {\n",
       "        vertical-align: middle;\n",
       "    }\n",
       "\n",
       "    .dataframe tbody tr th {\n",
       "        vertical-align: top;\n",
       "    }\n",
       "\n",
       "    .dataframe thead th {\n",
       "        text-align: right;\n",
       "    }\n",
       "</style>\n",
       "<table border=\"1\" class=\"dataframe\">\n",
       "  <thead>\n",
       "    <tr style=\"text-align: right;\">\n",
       "      <th></th>\n",
       "      <th>1st Flr SF</th>\n",
       "      <th>2nd Flr SF</th>\n",
       "      <th>3Ssn Porch</th>\n",
       "      <th>Bedroom AbvGr</th>\n",
       "      <th>Bsmt Full Bath</th>\n",
       "      <th>Bsmt Half Bath</th>\n",
       "      <th>Bsmt Unf SF</th>\n",
       "      <th>BsmtFin SF 1</th>\n",
       "      <th>BsmtFin SF 2</th>\n",
       "      <th>Enclosed Porch</th>\n",
       "      <th>...</th>\n",
       "      <th>Min2</th>\n",
       "      <th>Sal</th>\n",
       "      <th>Typ</th>\n",
       "      <th>Attchd</th>\n",
       "      <th>Basment</th>\n",
       "      <th>BuiltIn</th>\n",
       "      <th>CarPort</th>\n",
       "      <th>Detchd</th>\n",
       "      <th>RFn</th>\n",
       "      <th>P</th>\n",
       "    </tr>\n",
       "  </thead>\n",
       "  <tbody>\n",
       "    <tr>\n",
       "      <td>0</td>\n",
       "      <td>-18.977063</td>\n",
       "      <td>-0.774459</td>\n",
       "      <td>-0.117447</td>\n",
       "      <td>-3.169635</td>\n",
       "      <td>1.301438</td>\n",
       "      <td>-1.273334</td>\n",
       "      <td>-1.290462</td>\n",
       "      <td>-0.949188</td>\n",
       "      <td>-0.274882</td>\n",
       "      <td>-0.281789</td>\n",
       "      <td>...</td>\n",
       "      <td>0</td>\n",
       "      <td>0</td>\n",
       "      <td>1</td>\n",
       "      <td>1</td>\n",
       "      <td>0</td>\n",
       "      <td>0</td>\n",
       "      <td>0</td>\n",
       "      <td>0</td>\n",
       "      <td>0</td>\n",
       "      <td>0</td>\n",
       "    </tr>\n",
       "    <tr>\n",
       "      <td>1</td>\n",
       "      <td>-17.255667</td>\n",
       "      <td>-0.774459</td>\n",
       "      <td>-0.117447</td>\n",
       "      <td>-3.169635</td>\n",
       "      <td>-2.367703</td>\n",
       "      <td>-1.273334</td>\n",
       "      <td>-1.284857</td>\n",
       "      <td>-0.950603</td>\n",
       "      <td>-0.297854</td>\n",
       "      <td>-0.340248</td>\n",
       "      <td>...</td>\n",
       "      <td>0</td>\n",
       "      <td>0</td>\n",
       "      <td>1</td>\n",
       "      <td>1</td>\n",
       "      <td>0</td>\n",
       "      <td>0</td>\n",
       "      <td>0</td>\n",
       "      <td>0</td>\n",
       "      <td>1</td>\n",
       "      <td>0</td>\n",
       "    </tr>\n",
       "    <tr>\n",
       "      <td>2</td>\n",
       "      <td>-23.330042</td>\n",
       "      <td>-0.771046</td>\n",
       "      <td>-0.117447</td>\n",
       "      <td>-3.169635</td>\n",
       "      <td>-2.367703</td>\n",
       "      <td>-1.273334</td>\n",
       "      <td>-1.288940</td>\n",
       "      <td>-0.949673</td>\n",
       "      <td>-0.297854</td>\n",
       "      <td>-0.340248</td>\n",
       "      <td>...</td>\n",
       "      <td>0</td>\n",
       "      <td>0</td>\n",
       "      <td>1</td>\n",
       "      <td>1</td>\n",
       "      <td>0</td>\n",
       "      <td>0</td>\n",
       "      <td>0</td>\n",
       "      <td>0</td>\n",
       "      <td>0</td>\n",
       "      <td>0</td>\n",
       "    </tr>\n",
       "    <tr>\n",
       "      <td>3</td>\n",
       "      <td>-22.001052</td>\n",
       "      <td>-0.774459</td>\n",
       "      <td>-0.117447</td>\n",
       "      <td>-3.169635</td>\n",
       "      <td>1.301438</td>\n",
       "      <td>-1.273334</td>\n",
       "      <td>-1.287459</td>\n",
       "      <td>-0.950342</td>\n",
       "      <td>-0.297854</td>\n",
       "      <td>-0.340248</td>\n",
       "      <td>...</td>\n",
       "      <td>0</td>\n",
       "      <td>0</td>\n",
       "      <td>1</td>\n",
       "      <td>0</td>\n",
       "      <td>0</td>\n",
       "      <td>0</td>\n",
       "      <td>0</td>\n",
       "      <td>1</td>\n",
       "      <td>0</td>\n",
       "      <td>0</td>\n",
       "    </tr>\n",
       "    <tr>\n",
       "      <td>4</td>\n",
       "      <td>-24.800191</td>\n",
       "      <td>-0.772301</td>\n",
       "      <td>-0.117447</td>\n",
       "      <td>-4.635267</td>\n",
       "      <td>-2.367703</td>\n",
       "      <td>-1.273334</td>\n",
       "      <td>-1.288771</td>\n",
       "      <td>-0.950855</td>\n",
       "      <td>-0.297854</td>\n",
       "      <td>-0.340248</td>\n",
       "      <td>...</td>\n",
       "      <td>0</td>\n",
       "      <td>0</td>\n",
       "      <td>1</td>\n",
       "      <td>0</td>\n",
       "      <td>0</td>\n",
       "      <td>0</td>\n",
       "      <td>0</td>\n",
       "      <td>1</td>\n",
       "      <td>0</td>\n",
       "      <td>0</td>\n",
       "    </tr>\n",
       "    <tr>\n",
       "      <td>...</td>\n",
       "      <td>...</td>\n",
       "      <td>...</td>\n",
       "      <td>...</td>\n",
       "      <td>...</td>\n",
       "      <td>...</td>\n",
       "      <td>...</td>\n",
       "      <td>...</td>\n",
       "      <td>...</td>\n",
       "      <td>...</td>\n",
       "      <td>...</td>\n",
       "      <td>...</td>\n",
       "      <td>...</td>\n",
       "      <td>...</td>\n",
       "      <td>...</td>\n",
       "      <td>...</td>\n",
       "      <td>...</td>\n",
       "      <td>...</td>\n",
       "      <td>...</td>\n",
       "      <td>...</td>\n",
       "      <td>...</td>\n",
       "      <td>...</td>\n",
       "    </tr>\n",
       "    <tr>\n",
       "      <td>1205</td>\n",
       "      <td>-25.857014</td>\n",
       "      <td>-0.771080</td>\n",
       "      <td>-0.117447</td>\n",
       "      <td>-3.169635</td>\n",
       "      <td>-2.367703</td>\n",
       "      <td>-1.273334</td>\n",
       "      <td>-1.287391</td>\n",
       "      <td>-0.952266</td>\n",
       "      <td>-0.297854</td>\n",
       "      <td>-0.340248</td>\n",
       "      <td>...</td>\n",
       "      <td>0</td>\n",
       "      <td>0</td>\n",
       "      <td>1</td>\n",
       "      <td>0</td>\n",
       "      <td>0</td>\n",
       "      <td>0</td>\n",
       "      <td>0</td>\n",
       "      <td>1</td>\n",
       "      <td>0</td>\n",
       "      <td>0</td>\n",
       "    </tr>\n",
       "    <tr>\n",
       "      <td>1206</td>\n",
       "      <td>-19.573495</td>\n",
       "      <td>-0.774459</td>\n",
       "      <td>-0.117447</td>\n",
       "      <td>-3.169635</td>\n",
       "      <td>1.301438</td>\n",
       "      <td>-1.273334</td>\n",
       "      <td>-1.290051</td>\n",
       "      <td>-0.946769</td>\n",
       "      <td>-0.297854</td>\n",
       "      <td>-0.340248</td>\n",
       "      <td>...</td>\n",
       "      <td>0</td>\n",
       "      <td>0</td>\n",
       "      <td>1</td>\n",
       "      <td>1</td>\n",
       "      <td>0</td>\n",
       "      <td>0</td>\n",
       "      <td>0</td>\n",
       "      <td>0</td>\n",
       "      <td>1</td>\n",
       "      <td>0</td>\n",
       "    </tr>\n",
       "    <tr>\n",
       "      <td>1207</td>\n",
       "      <td>-21.545687</td>\n",
       "      <td>-0.774459</td>\n",
       "      <td>-0.117447</td>\n",
       "      <td>-3.169635</td>\n",
       "      <td>-2.367703</td>\n",
       "      <td>-1.273334</td>\n",
       "      <td>-1.284978</td>\n",
       "      <td>-0.952266</td>\n",
       "      <td>-0.297854</td>\n",
       "      <td>-0.340248</td>\n",
       "      <td>...</td>\n",
       "      <td>0</td>\n",
       "      <td>0</td>\n",
       "      <td>1</td>\n",
       "      <td>1</td>\n",
       "      <td>0</td>\n",
       "      <td>0</td>\n",
       "      <td>0</td>\n",
       "      <td>0</td>\n",
       "      <td>1</td>\n",
       "      <td>0</td>\n",
       "    </tr>\n",
       "    <tr>\n",
       "      <td>1208</td>\n",
       "      <td>-20.627221</td>\n",
       "      <td>-0.774459</td>\n",
       "      <td>-0.117447</td>\n",
       "      <td>-4.635267</td>\n",
       "      <td>-2.367703</td>\n",
       "      <td>-1.273334</td>\n",
       "      <td>-1.290462</td>\n",
       "      <td>-0.952266</td>\n",
       "      <td>-0.297854</td>\n",
       "      <td>-0.340248</td>\n",
       "      <td>...</td>\n",
       "      <td>0</td>\n",
       "      <td>0</td>\n",
       "      <td>1</td>\n",
       "      <td>1</td>\n",
       "      <td>0</td>\n",
       "      <td>0</td>\n",
       "      <td>0</td>\n",
       "      <td>0</td>\n",
       "      <td>0</td>\n",
       "      <td>0</td>\n",
       "    </tr>\n",
       "    <tr>\n",
       "      <td>1209</td>\n",
       "      <td>-22.139455</td>\n",
       "      <td>-0.769501</td>\n",
       "      <td>-0.117447</td>\n",
       "      <td>-3.169635</td>\n",
       "      <td>1.301438</td>\n",
       "      <td>-1.273334</td>\n",
       "      <td>-1.287876</td>\n",
       "      <td>-0.950049</td>\n",
       "      <td>-0.297854</td>\n",
       "      <td>-0.340248</td>\n",
       "      <td>...</td>\n",
       "      <td>0</td>\n",
       "      <td>0</td>\n",
       "      <td>1</td>\n",
       "      <td>1</td>\n",
       "      <td>0</td>\n",
       "      <td>0</td>\n",
       "      <td>0</td>\n",
       "      <td>0</td>\n",
       "      <td>1</td>\n",
       "      <td>0</td>\n",
       "    </tr>\n",
       "  </tbody>\n",
       "</table>\n",
       "<p>1210 rows × 183 columns</p>\n",
       "</div>"
      ],
      "text/plain": [
       "      1st Flr SF  2nd Flr SF  3Ssn Porch  Bedroom AbvGr  Bsmt Full Bath  \\\n",
       "0     -18.977063   -0.774459   -0.117447      -3.169635        1.301438   \n",
       "1     -17.255667   -0.774459   -0.117447      -3.169635       -2.367703   \n",
       "2     -23.330042   -0.771046   -0.117447      -3.169635       -2.367703   \n",
       "3     -22.001052   -0.774459   -0.117447      -3.169635        1.301438   \n",
       "4     -24.800191   -0.772301   -0.117447      -4.635267       -2.367703   \n",
       "...          ...         ...         ...            ...             ...   \n",
       "1205  -25.857014   -0.771080   -0.117447      -3.169635       -2.367703   \n",
       "1206  -19.573495   -0.774459   -0.117447      -3.169635        1.301438   \n",
       "1207  -21.545687   -0.774459   -0.117447      -3.169635       -2.367703   \n",
       "1208  -20.627221   -0.774459   -0.117447      -4.635267       -2.367703   \n",
       "1209  -22.139455   -0.769501   -0.117447      -3.169635        1.301438   \n",
       "\n",
       "      Bsmt Half Bath  Bsmt Unf SF  BsmtFin SF 1  BsmtFin SF 2  Enclosed Porch  \\\n",
       "0          -1.273334    -1.290462     -0.949188     -0.274882       -0.281789   \n",
       "1          -1.273334    -1.284857     -0.950603     -0.297854       -0.340248   \n",
       "2          -1.273334    -1.288940     -0.949673     -0.297854       -0.340248   \n",
       "3          -1.273334    -1.287459     -0.950342     -0.297854       -0.340248   \n",
       "4          -1.273334    -1.288771     -0.950855     -0.297854       -0.340248   \n",
       "...              ...          ...           ...           ...             ...   \n",
       "1205       -1.273334    -1.287391     -0.952266     -0.297854       -0.340248   \n",
       "1206       -1.273334    -1.290051     -0.946769     -0.297854       -0.340248   \n",
       "1207       -1.273334    -1.284978     -0.952266     -0.297854       -0.340248   \n",
       "1208       -1.273334    -1.290462     -0.952266     -0.297854       -0.340248   \n",
       "1209       -1.273334    -1.287876     -0.950049     -0.297854       -0.340248   \n",
       "\n",
       "      ...  Min2  Sal  Typ  Attchd  Basment  BuiltIn  CarPort  Detchd  RFn  P  \n",
       "0     ...     0    0    1       1        0        0        0       0    0  0  \n",
       "1     ...     0    0    1       1        0        0        0       0    1  0  \n",
       "2     ...     0    0    1       1        0        0        0       0    0  0  \n",
       "3     ...     0    0    1       0        0        0        0       1    0  0  \n",
       "4     ...     0    0    1       0        0        0        0       1    0  0  \n",
       "...   ...   ...  ...  ...     ...      ...      ...      ...     ...  ... ..  \n",
       "1205  ...     0    0    1       0        0        0        0       1    0  0  \n",
       "1206  ...     0    0    1       1        0        0        0       0    1  0  \n",
       "1207  ...     0    0    1       1        0        0        0       0    1  0  \n",
       "1208  ...     0    0    1       1        0        0        0       0    0  0  \n",
       "1209  ...     0    0    1       1        0        0        0       0    1  0  \n",
       "\n",
       "[1210 rows x 183 columns]"
      ]
     },
     "execution_count": 336,
     "metadata": {},
     "output_type": "execute_result"
    }
   ],
   "source": [
    "df_Test"
   ]
  },
  {
   "cell_type": "code",
   "execution_count": null,
   "metadata": {},
   "outputs": [],
   "source": []
  },
  {
   "cell_type": "code",
   "execution_count": 605,
   "metadata": {},
   "outputs": [],
   "source": [
    "y_predi=regressor.predict(X.loc[:, lassopredictors])"
   ]
  },
  {
   "cell_type": "code",
   "execution_count": 606,
   "metadata": {},
   "outputs": [],
   "source": [
    "##pd.DataFrame(y_pred).to_csv(\"prediction.csv\")"
   ]
  },
  {
   "cell_type": "code",
   "execution_count": 607,
   "metadata": {},
   "outputs": [
    {
     "name": "stdout",
     "output_type": "stream",
     "text": [
      "Train RMSE for XGBoost mode is 21304.482832247646\n"
     ]
    }
   ],
   "source": [
    "train_rmse3 = np.sqrt(mean_squared_error(Y, y_predi))\n",
    "print('Train RMSE for XGBoost mode is', train_rmse3)"
   ]
  },
  {
   "cell_type": "code",
   "execution_count": 333,
   "metadata": {},
   "outputs": [],
   "source": [
    "y_predi=regressor.predict(df_Test.loc[:, lassopredictors])\n",
    "pd.DataFrame(y_pred).to_csv(\"prediction.csv\")"
   ]
  },
  {
   "cell_type": "code",
   "execution_count": null,
   "metadata": {},
   "outputs": [],
   "source": []
  },
  {
   "cell_type": "markdown",
   "metadata": {},
   "source": [
    "Polynomial model\n",
    "lassopredictors"
   ]
  },
  {
   "cell_type": "code",
   "execution_count": 549,
   "metadata": {},
   "outputs": [],
   "source": [
    "from sklearn.base import BaseEstimator\n",
    "from sklearn.linear_model import LinearRegression\n",
    "from sklearn.model_selection import GridSearchCV\n",
    "from sklearn.metrics import mean_squared_error\n",
    "\n",
    "\n",
    "class PolynomialRegression(BaseEstimator):\n",
    "    def __init__(self, deg=None):\n",
    "        self.deg = deg\n",
    "    \n",
    "    def fit(self, X, y, deg=None):\n",
    "        self.model = LinearRegression(fit_intercept=False)\n",
    "        self.model.fit(np.vander(X, N=self.deg + 1), y)\n",
    "    \n",
    "    def predict(self, x):\n",
    "        return self.model.predict(np.vander(x, N=self.deg + 1))\n",
    "    \n",
    "    @property\n",
    "    def coef_(self):\n",
    "        return self.model.coef_"
   ]
  },
  {
   "cell_type": "code",
   "execution_count": 550,
   "metadata": {},
   "outputs": [
    {
     "ename": "ValueError",
     "evalue": "x must be a one-dimensional array or sequence.",
     "output_type": "error",
     "traceback": [
      "\u001b[1;31m---------------------------------------------------------------------------\u001b[0m",
      "\u001b[1;31mValueError\u001b[0m                                Traceback (most recent call last)",
      "\u001b[1;32m<ipython-input-550-e71ac5ae8cac>\u001b[0m in \u001b[0;36m<module>\u001b[1;34m\u001b[0m\n\u001b[0;32m      1\u001b[0m \u001b[0mknown_degree_model\u001b[0m \u001b[1;33m=\u001b[0m \u001b[0mPolynomialRegression\u001b[0m\u001b[1;33m(\u001b[0m\u001b[0mdeg\u001b[0m\u001b[1;33m=\u001b[0m\u001b[1;36m3\u001b[0m\u001b[1;33m)\u001b[0m\u001b[1;33m\u001b[0m\u001b[1;33m\u001b[0m\u001b[0m\n\u001b[1;32m----> 2\u001b[1;33m \u001b[0mknown_degree_model\u001b[0m\u001b[1;33m.\u001b[0m\u001b[0mfit\u001b[0m\u001b[1;33m(\u001b[0m\u001b[0mX\u001b[0m\u001b[1;33m.\u001b[0m\u001b[0mloc\u001b[0m\u001b[1;33m[\u001b[0m\u001b[1;33m:\u001b[0m\u001b[1;33m,\u001b[0m \u001b[0mlassopredictors\u001b[0m\u001b[1;33m]\u001b[0m\u001b[1;33m,\u001b[0m \u001b[0mY\u001b[0m\u001b[1;33m)\u001b[0m\u001b[1;33m\u001b[0m\u001b[1;33m\u001b[0m\u001b[0m\n\u001b[0m\u001b[0;32m      3\u001b[0m \u001b[0mknown_degree_model\u001b[0m\u001b[1;33m.\u001b[0m\u001b[0mcoef_\u001b[0m\u001b[1;33m\u001b[0m\u001b[1;33m\u001b[0m\u001b[0m\n",
      "\u001b[1;32m<ipython-input-549-2d1c3f3d5d28>\u001b[0m in \u001b[0;36mfit\u001b[1;34m(self, X, y, deg)\u001b[0m\n\u001b[0;32m     11\u001b[0m     \u001b[1;32mdef\u001b[0m \u001b[0mfit\u001b[0m\u001b[1;33m(\u001b[0m\u001b[0mself\u001b[0m\u001b[1;33m,\u001b[0m \u001b[0mX\u001b[0m\u001b[1;33m,\u001b[0m \u001b[0my\u001b[0m\u001b[1;33m,\u001b[0m \u001b[0mdeg\u001b[0m\u001b[1;33m=\u001b[0m\u001b[1;32mNone\u001b[0m\u001b[1;33m)\u001b[0m\u001b[1;33m:\u001b[0m\u001b[1;33m\u001b[0m\u001b[1;33m\u001b[0m\u001b[0m\n\u001b[0;32m     12\u001b[0m         \u001b[0mself\u001b[0m\u001b[1;33m.\u001b[0m\u001b[0mmodel\u001b[0m \u001b[1;33m=\u001b[0m \u001b[0mLinearRegression\u001b[0m\u001b[1;33m(\u001b[0m\u001b[0mfit_intercept\u001b[0m\u001b[1;33m=\u001b[0m\u001b[1;32mFalse\u001b[0m\u001b[1;33m)\u001b[0m\u001b[1;33m\u001b[0m\u001b[1;33m\u001b[0m\u001b[0m\n\u001b[1;32m---> 13\u001b[1;33m         \u001b[0mself\u001b[0m\u001b[1;33m.\u001b[0m\u001b[0mmodel\u001b[0m\u001b[1;33m.\u001b[0m\u001b[0mfit\u001b[0m\u001b[1;33m(\u001b[0m\u001b[0mnp\u001b[0m\u001b[1;33m.\u001b[0m\u001b[0mvander\u001b[0m\u001b[1;33m(\u001b[0m\u001b[0mX\u001b[0m\u001b[1;33m,\u001b[0m \u001b[0mN\u001b[0m\u001b[1;33m=\u001b[0m\u001b[0mself\u001b[0m\u001b[1;33m.\u001b[0m\u001b[0mdeg\u001b[0m \u001b[1;33m+\u001b[0m \u001b[1;36m1\u001b[0m\u001b[1;33m)\u001b[0m\u001b[1;33m,\u001b[0m \u001b[0my\u001b[0m\u001b[1;33m)\u001b[0m\u001b[1;33m\u001b[0m\u001b[1;33m\u001b[0m\u001b[0m\n\u001b[0m\u001b[0;32m     14\u001b[0m \u001b[1;33m\u001b[0m\u001b[0m\n\u001b[0;32m     15\u001b[0m     \u001b[1;32mdef\u001b[0m \u001b[0mpredict\u001b[0m\u001b[1;33m(\u001b[0m\u001b[0mself\u001b[0m\u001b[1;33m,\u001b[0m \u001b[0mx\u001b[0m\u001b[1;33m)\u001b[0m\u001b[1;33m:\u001b[0m\u001b[1;33m\u001b[0m\u001b[1;33m\u001b[0m\u001b[0m\n",
      "\u001b[1;32m~\\Anaconda3\\lib\\site-packages\\numpy\\lib\\twodim_base.py\u001b[0m in \u001b[0;36mvander\u001b[1;34m(x, N, increasing)\u001b[0m\n\u001b[0;32m    548\u001b[0m     \u001b[0mx\u001b[0m \u001b[1;33m=\u001b[0m \u001b[0masarray\u001b[0m\u001b[1;33m(\u001b[0m\u001b[0mx\u001b[0m\u001b[1;33m)\u001b[0m\u001b[1;33m\u001b[0m\u001b[1;33m\u001b[0m\u001b[0m\n\u001b[0;32m    549\u001b[0m     \u001b[1;32mif\u001b[0m \u001b[0mx\u001b[0m\u001b[1;33m.\u001b[0m\u001b[0mndim\u001b[0m \u001b[1;33m!=\u001b[0m \u001b[1;36m1\u001b[0m\u001b[1;33m:\u001b[0m\u001b[1;33m\u001b[0m\u001b[1;33m\u001b[0m\u001b[0m\n\u001b[1;32m--> 550\u001b[1;33m         \u001b[1;32mraise\u001b[0m \u001b[0mValueError\u001b[0m\u001b[1;33m(\u001b[0m\u001b[1;34m\"x must be a one-dimensional array or sequence.\"\u001b[0m\u001b[1;33m)\u001b[0m\u001b[1;33m\u001b[0m\u001b[1;33m\u001b[0m\u001b[0m\n\u001b[0m\u001b[0;32m    551\u001b[0m     \u001b[1;32mif\u001b[0m \u001b[0mN\u001b[0m \u001b[1;32mis\u001b[0m \u001b[1;32mNone\u001b[0m\u001b[1;33m:\u001b[0m\u001b[1;33m\u001b[0m\u001b[1;33m\u001b[0m\u001b[0m\n\u001b[0;32m    552\u001b[0m         \u001b[0mN\u001b[0m \u001b[1;33m=\u001b[0m \u001b[0mlen\u001b[0m\u001b[1;33m(\u001b[0m\u001b[0mx\u001b[0m\u001b[1;33m)\u001b[0m\u001b[1;33m\u001b[0m\u001b[1;33m\u001b[0m\u001b[0m\n",
      "\u001b[1;31mValueError\u001b[0m: x must be a one-dimensional array or sequence."
     ]
    }
   ],
   "source": [
    "known_degree_model = PolynomialRegression(deg=3)\n",
    "known_degree_model.fit(X.loc[:, lassopredictors], Y)\n",
    "known_degree_model.coef_"
   ]
  },
  {
   "cell_type": "code",
   "execution_count": 551,
   "metadata": {},
   "outputs": [],
   "source": [
    "lassopredictors = ['1st Flr SF', 'Bsmt Full Bath', 'Full Bath', 'Garage Cars', 'Gr Liv Area', 'Kitchen AbvGr', 'Overall Qual']\n"
   ]
  },
  {
   "cell_type": "code",
   "execution_count": 552,
   "metadata": {},
   "outputs": [
    {
     "name": "stdout",
     "output_type": "stream",
     "text": [
      "The model performance for the training set\n",
      "-------------------------------------------\n",
      "RMSE of training set is 27007.866517470833\n"
     ]
    }
   ],
   "source": [
    "from sklearn.preprocessing import PolynomialFeatures\n",
    "\n",
    "\n",
    "poly_features = PolynomialFeatures(degree=2)\n",
    "  \n",
    "# transforms the existing features to higher degree features.\n",
    "X_train_poly = poly_features.fit_transform(X.loc[:, lassopredictors])\n",
    "  \n",
    "# fit the transformed features to Linear Regression\n",
    "poly_model = LinearRegression()\n",
    "poly_model.fit(X_train_poly, Y)\n",
    "  \n",
    "# predicting on training data-set\n",
    "y_train_predicted = poly_model.predict(X_train_poly)\n",
    "  \n",
    "# predicting on test data-set\n",
    "y_test_predict = poly_model.predict(poly_features.fit_transform(df_Test.loc[:,lassopredictors]))\n",
    "  \n",
    "# evaluating the model on training dataset\n",
    "rmse_train = np.sqrt(mean_squared_error(Y, y_train_predicted))\n",
    "print(\"The model performance for the training set\")\n",
    "print(\"-------------------------------------------\")\n",
    "print(\"RMSE of training set is {}\".format(rmse_train))\n",
    "reg = LinearRegression().fit(X_train_poly, Y)\n",
    "\n"
   ]
  },
  {
   "cell_type": "code",
   "execution_count": 553,
   "metadata": {},
   "outputs": [
    {
     "data": {
      "text/plain": [
       "array([ 1.30229937e-11, -3.60180558e+03,  1.97385132e+04,  2.99833384e+04,\n",
       "        5.61492088e+04,  6.53731414e+03, -7.96285666e+03,  1.55204721e+05,\n",
       "        3.39091986e+02,  6.64159546e+02,  8.89312323e+01,  9.13282358e+02,\n",
       "       -1.47379238e+03,  5.31946702e+00,  1.58084176e+03,  4.36404450e+02,\n",
       "        5.11793630e+02, -1.76125921e+02, -3.48648821e+02, -9.96075604e+01,\n",
       "        1.73576163e+03, -7.54034162e+02,  1.06013454e+03,  1.95205844e+03,\n",
       "       -3.89822665e+02, -3.27325991e+03, -5.10269430e+02,  2.96240536e+02,\n",
       "       -2.64682489e+02,  4.67627924e+03,  2.97164656e+02, -9.39612886e+01,\n",
       "        3.22542025e+03,  2.22297618e+01, -6.15749631e+02,  1.06130183e+03])"
      ]
     },
     "execution_count": 553,
     "metadata": {},
     "output_type": "execute_result"
    }
   ],
   "source": [
    "reg.coef_\n"
   ]
  },
  {
   "cell_type": "code",
   "execution_count": 554,
   "metadata": {},
   "outputs": [
    {
     "data": {
      "text/plain": [
       "array([196567.47380608, 201822.51670809, 169352.44281992, ...,\n",
       "       129683.58051699,  98535.65796316, 260915.57636694])"
      ]
     },
     "execution_count": 554,
     "metadata": {},
     "output_type": "execute_result"
    }
   ],
   "source": [
    "y_test_predict"
   ]
  },
  {
   "cell_type": "code",
   "execution_count": 555,
   "metadata": {},
   "outputs": [],
   "source": [
    "pd.DataFrame(y_test_predict).to_csv(\"prediction.csv\")"
   ]
  },
  {
   "cell_type": "code",
   "execution_count": null,
   "metadata": {},
   "outputs": [],
   "source": []
  },
  {
   "cell_type": "code",
   "execution_count": null,
   "metadata": {},
   "outputs": [],
   "source": []
  },
  {
   "cell_type": "code",
   "execution_count": null,
   "metadata": {},
   "outputs": [],
   "source": []
  },
  {
   "cell_type": "code",
   "execution_count": null,
   "metadata": {},
   "outputs": [],
   "source": []
  }
 ],
 "metadata": {
  "kernelspec": {
   "display_name": "Python 3",
   "language": "python",
   "name": "python3"
  },
  "language_info": {
   "codemirror_mode": {
    "name": "ipython",
    "version": 3
   },
   "file_extension": ".py",
   "mimetype": "text/x-python",
   "name": "python",
   "nbconvert_exporter": "python",
   "pygments_lexer": "ipython3",
   "version": "3.7.4"
  }
 },
 "nbformat": 4,
 "nbformat_minor": 4
}
